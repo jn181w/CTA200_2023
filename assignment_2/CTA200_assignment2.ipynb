{
 "cells": [
  {
   "cell_type": "markdown",
   "metadata": {},
   "source": [
    "Part 1"
   ]
  },
  {
   "cell_type": "code",
   "execution_count": 6,
   "metadata": {},
   "outputs": [],
   "source": [
    "import numpy as np\n",
    "import warnings\n",
    "\n",
    "def f(x):\n",
    "    return x**3 - x**2 -1\n",
    "\n",
    "def df(x):\n",
    "    return 3*x**2 - 2*x\n"
   ]
  },
  {
   "cell_type": "markdown",
   "metadata": {},
   "source": [
    "Part 2"
   ]
  },
  {
   "cell_type": "code",
   "execution_count": 10,
   "metadata": {},
   "outputs": [
    {
     "name": "stdout",
     "output_type": "stream",
     "text": [
      "1 2.0 3.0\n",
      "1 1.625 0.650390625\n",
      "1 1.4857859531772575 0.07240158956588028\n",
      "1 1.4659559197359893 0.0013517398449036655\n",
      "1 1.4655713749070918 5.024018974175704e-07\n",
      "Iteration success, roots found in 5 iterations\n",
      "1.4655713749070918\n"
     ]
    }
   ],
   "source": [
    "def newton(f,df,x0,y,ep=1e-6,max_iter=30):\n",
    "    \"\"\"Newton's method for solving f(x)=y\n",
    "    Args:\n",
    "        f: function\n",
    "        df: derivative of f\n",
    "        x0: initial guess\n",
    "        y: target value\n",
    "        ep: tolerance\n",
    "        max_iter: maximum number of iterations\n",
    "    \n",
    "    Returns:\n",
    "        xe: solution\n",
    "        \"\"\"\n",
    "    xe = x0\n",
    "    for i in range(0,max_iter):\n",
    "        if abs(f(xe)-y) < ep:\n",
    "            print(f'Iteration success, roots found in {i} iterations')\n",
    "            return xe\n",
    "        else:\n",
    "            xe = xe - f(xe)/df(xe)\n",
    "            print(x0,xe,f(xe))\n",
    "\n",
    "    else:\n",
    "        warnings.warn('Iteration fails')\n",
    "        return None\n",
    "        \n",
    "print(newton(f,df,1,0))"
   ]
  },
  {
   "cell_type": "markdown",
   "metadata": {},
   "source": [
    "Part 3"
   ]
  },
  {
   "cell_type": "code",
   "execution_count": 11,
   "metadata": {},
   "outputs": [
    {
     "name": "stdout",
     "output_type": "stream",
     "text": [
      "Iteration success, roots found in 6 iterations\n",
      "1.4655712318767877\n"
     ]
    }
   ],
   "source": [
    "def test_newton_con(f,df,x0,y,ep=1e-6):\n",
    "    \"\"\"Test number of iterations required for covergence from Newton's method for solving f(x)=y\n",
    "    Args:\n",
    "        f: function\n",
    "        df: derivative of f\n",
    "        x0: initial guess\n",
    "        y: target value\n",
    "        ep: tolerance\n",
    "        \n",
    "    Returns:\n",
    "        xe: solution\"\"\"\n",
    "    xe = x0\n",
    "    i = 0\n",
    "    while abs(f(xe)-y) > ep:\n",
    "        xe = xe - f(xe)/df(xe)\n",
    "        i += 1\n",
    "    print(f'Iteration success, roots found in {i} iterations')\n",
    "    return xe\n",
    "\n",
    "print(test_newton_con(f,df,1,0,1e-8))"
   ]
  }
 ],
 "metadata": {
  "kernelspec": {
   "display_name": "Python 3.9.16 ('base')",
   "language": "python",
   "name": "python3"
  },
  "language_info": {
   "codemirror_mode": {
    "name": "ipython",
    "version": 3
   },
   "file_extension": ".py",
   "mimetype": "text/x-python",
   "name": "python",
   "nbconvert_exporter": "python",
   "pygments_lexer": "ipython3",
   "version": "3.9.16"
  },
  "orig_nbformat": 4,
  "vscode": {
   "interpreter": {
    "hash": "3d597f4c481aa0f25dceb95d2a0067e73c0966dcbd003d741d821a7208527ecf"
   }
  }
 },
 "nbformat": 4,
 "nbformat_minor": 2
}
